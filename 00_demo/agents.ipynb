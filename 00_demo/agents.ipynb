{
 "cells": [
  {
   "cell_type": "code",
   "execution_count": 34,
   "id": "9a1cf894",
   "metadata": {},
   "outputs": [],
   "source": [
    "import os\n",
    "from dotenv import load_dotenv\n",
    "from agents import Agent, Runner, OpenAIChatCompletionsModel\n",
    "from openai import AsyncOpenAI"
   ]
  },
  {
   "cell_type": "code",
   "execution_count": 35,
   "id": "310f904b",
   "metadata": {},
   "outputs": [
    {
     "data": {
      "text/plain": [
       "True"
      ]
     },
     "execution_count": 35,
     "metadata": {},
     "output_type": "execute_result"
    }
   ],
   "source": [
    "load_dotenv()"
   ]
  },
  {
   "cell_type": "code",
   "execution_count": 36,
   "id": "f2e6fb10",
   "metadata": {},
   "outputs": [],
   "source": [
    "api_key = os.getenv(\"GEMINI_API_KEY\")\n",
    "\n",
    "if not api_key:\n",
    "    raise ValueError(\"GEMINI_API_KEY is not set in environment variables.\")"
   ]
  },
  {
   "cell_type": "code",
   "execution_count": 37,
   "id": "fd215c99",
   "metadata": {},
   "outputs": [],
   "source": [
    "client = AsyncOpenAI(\n",
    "    api_key=api_key,\n",
    "    base_url=\"https://generativelanguage.googleapis.com/v1beta/openai/\",\n",
    ")\n"
   ]
  },
  {
   "cell_type": "code",
   "execution_count": 38,
   "id": "11d7c806",
   "metadata": {},
   "outputs": [],
   "source": [
    "model = OpenAIChatCompletionsModel(\n",
    "        model=\"gemini-2.0-flash\",\n",
    "        openai_client=client\n",
    "    )"
   ]
  },
  {
   "cell_type": "code",
   "execution_count": 39,
   "id": "35e6c478",
   "metadata": {},
   "outputs": [],
   "source": [
    "agent: Agent = Agent(name=\"Assistant\", instructions=\"You are an Assistant Agent of a Bank who will respond to queries only related to ATM.\", model=model)"
   ]
  },
  {
   "cell_type": "code",
   "execution_count": 40,
   "id": "b9d60d49",
   "metadata": {},
   "outputs": [],
   "source": [
    "result = await Runner.run(agent, \"Guide me\")"
   ]
  },
  {
   "cell_type": "code",
   "execution_count": 41,
   "id": "2e75f86c",
   "metadata": {},
   "outputs": [
    {
     "data": {
      "text/plain": [
       "'Okay, I can help with that! To guide you best, please tell me what you need help with regarding ATMs. For example, are you looking for:\\n\\n*   **How to find an ATM?**\\n*   **How to use an ATM?**\\n*   **What to do if your ATM card is lost or stolen?**\\n*   **Information on ATM fees?**\\n*   **Help with a specific ATM transaction issue?**\\n\\nThe more information you give me, the better I can assist you.\\n'"
      ]
     },
     "execution_count": 41,
     "metadata": {},
     "output_type": "execute_result"
    }
   ],
   "source": [
    "result.final_output"
   ]
  },
  {
   "cell_type": "code",
   "execution_count": 42,
   "id": "5814e67e",
   "metadata": {},
   "outputs": [],
   "source": [
    "from pydantic import BaseModel\n",
    "from agents import Agent"
   ]
  },
  {
   "cell_type": "code",
   "execution_count": 43,
   "id": "981e793d",
   "metadata": {},
   "outputs": [],
   "source": [
    "class Recipe(BaseModel):\n",
    "    title: str\n",
    "    ingredient: list[str]\n",
    "    cooking_time: int\n",
    "    servings: int"
   ]
  },
  {
   "cell_type": "code",
   "execution_count": 44,
   "id": "5e722737",
   "metadata": {},
   "outputs": [],
   "source": [
    "recipe_agent: Agent = Agent(name=\"Recipe Agent\", instructions=\"You are an agent for creating recipes. You will be given the name of a food and your job is to output that as an actual detailed recipe. The cooking time should be in minutes.\", model=model, output_type=Recipe)"
   ]
  },
  {
   "cell_type": "code",
   "execution_count": 45,
   "id": "d8cec1e7",
   "metadata": {},
   "outputs": [],
   "source": [
    "response = await Runner.run(recipe_agent, \"Chocolate Cake\")"
   ]
  },
  {
   "cell_type": "code",
   "execution_count": 46,
   "id": "76598e51",
   "metadata": {},
   "outputs": [
    {
     "data": {
      "text/plain": [
       "Recipe(title='Chocolate Cake', ingredient=['2 cups all-purpose flour', '2 cups sugar', '¾ cup unsweetened cocoa powder', '1 ½ teaspoons baking powder', '1 ½ teaspoons baking soda', '1 teaspoon salt', '1 cup buttermilk', '½ cup vegetable oil', '2 large eggs', '2 teaspoons vanilla extract', '1 cup boiling water'], cooking_time=50, servings=12)"
      ]
     },
     "execution_count": 46,
     "metadata": {},
     "output_type": "execute_result"
    }
   ],
   "source": [
    "response.final_output"
   ]
  },
  {
   "cell_type": "code",
   "execution_count": 47,
   "id": "49bfb1f0",
   "metadata": {},
   "outputs": [],
   "source": [
    "from agents import Agent, function_tool"
   ]
  },
  {
   "cell_type": "code",
   "execution_count": 48,
   "id": "ebbac280",
   "metadata": {},
   "outputs": [],
   "source": [
    "@function_tool\n",
    "def get_weather(city: str) -> str:\n",
    "    print(f\"Getting weather for {city}.\")\n",
    "    return f\"The weather in {city} is hot.\""
   ]
  },
  {
   "cell_type": "code",
   "execution_count": 49,
   "id": "a1205d0a",
   "metadata": {},
   "outputs": [],
   "source": [
    "weather_agent: Agent = Agent(name=\"Weather Agent\", instructions=\"You are the local weather agent. You are given a city and you need to tell the weather and temperature. For any unrelated queries, say I cant help with that.\", model=model, tools=[get_weather])"
   ]
  },
  {
   "cell_type": "code",
   "execution_count": 50,
   "id": "89852018",
   "metadata": {},
   "outputs": [
    {
     "name": "stdout",
     "output_type": "stream",
     "text": [
      "Getting weather for Dallas.\n"
     ]
    }
   ],
   "source": [
    "weather_result = await Runner.run(weather_agent, \"Dallas\")"
   ]
  },
  {
   "cell_type": "code",
   "execution_count": 51,
   "id": "34630631",
   "metadata": {},
   "outputs": [
    {
     "data": {
      "text/plain": [
       "'The weather in Dallas is hot.\\n'"
      ]
     },
     "execution_count": 51,
     "metadata": {},
     "output_type": "execute_result"
    }
   ],
   "source": [
    "weather_result.final_output"
   ]
  },
  {
   "cell_type": "code",
   "execution_count": 52,
   "id": "49af6f60",
   "metadata": {},
   "outputs": [],
   "source": [
    "from agents import WebSearchTool"
   ]
  },
  {
   "cell_type": "code",
   "execution_count": 56,
   "id": "d6306016",
   "metadata": {},
   "outputs": [],
   "source": [
    "news_agent = Agent(\n",
    "    name=\"News Reporter\",\n",
    "    instructions=\"You are a news reporter. Your job is to find recent news articles on the internet about US politics.\",\n",
    "    model=model,\n",
    "    tools=[WebSearchTool()]\n",
    ")"
   ]
  },
  {
   "cell_type": "code",
   "execution_count": 57,
   "id": "c0929ba8",
   "metadata": {},
   "outputs": [
    {
     "ename": "UserError",
     "evalue": "Hosted tools are not supported with the ChatCompletions API. Got tool type: <class 'agents.tool.WebSearchTool'>, tool: WebSearchTool(user_location=None, search_context_size='medium')",
     "output_type": "error",
     "traceback": [
      "\u001b[31m---------------------------------------------------------------------------\u001b[39m",
      "\u001b[31mUserError\u001b[39m                                 Traceback (most recent call last)",
      "\u001b[36mCell\u001b[39m\u001b[36m \u001b[39m\u001b[32mIn[57]\u001b[39m\u001b[32m, line 1\u001b[39m\n\u001b[32m----> \u001b[39m\u001b[32m1\u001b[39m news_result = \u001b[38;5;28;01mawait\u001b[39;00m Runner.run(news_agent, \u001b[33m\"\u001b[39m\u001b[33mfind news\u001b[39m\u001b[33m\"\u001b[39m)\n",
      "\u001b[36mFile \u001b[39m\u001b[32mc:\\Users\\uni-tech\\All Programming Code\\agentic_ai\\00_demo\\.venv\\Lib\\site-packages\\agents\\run.py:199\u001b[39m, in \u001b[36mRunner.run\u001b[39m\u001b[34m(cls, starting_agent, input, context, max_turns, hooks, run_config, previous_response_id)\u001b[39m\n\u001b[32m    172\u001b[39m \u001b[38;5;250m\u001b[39m\u001b[33;03m\"\"\"Run a workflow starting at the given agent. The agent will run in a loop until a final\u001b[39;00m\n\u001b[32m    173\u001b[39m \u001b[33;03moutput is generated. The loop runs like so:\u001b[39;00m\n\u001b[32m    174\u001b[39m \u001b[33;03m1. The agent is invoked with the given input.\u001b[39;00m\n\u001b[32m   (...)\u001b[39m\u001b[32m    196\u001b[39m \u001b[33;03m    agent. Agents may perform handoffs, so we don't know the specific type of the output.\u001b[39;00m\n\u001b[32m    197\u001b[39m \u001b[33;03m\"\"\"\u001b[39;00m\n\u001b[32m    198\u001b[39m runner = DEFAULT_AGENT_RUNNER\n\u001b[32m--> \u001b[39m\u001b[32m199\u001b[39m \u001b[38;5;28;01mreturn\u001b[39;00m \u001b[38;5;28;01mawait\u001b[39;00m runner.run(\n\u001b[32m    200\u001b[39m     starting_agent,\n\u001b[32m    201\u001b[39m     \u001b[38;5;28minput\u001b[39m,\n\u001b[32m    202\u001b[39m     context=context,\n\u001b[32m    203\u001b[39m     max_turns=max_turns,\n\u001b[32m    204\u001b[39m     hooks=hooks,\n\u001b[32m    205\u001b[39m     run_config=run_config,\n\u001b[32m    206\u001b[39m     previous_response_id=previous_response_id,\n\u001b[32m    207\u001b[39m )\n",
      "\u001b[36mFile \u001b[39m\u001b[32mc:\\Users\\uni-tech\\All Programming Code\\agentic_ai\\00_demo\\.venv\\Lib\\site-packages\\agents\\run.py:395\u001b[39m, in \u001b[36mAgentRunner.run\u001b[39m\u001b[34m(self, starting_agent, input, **kwargs)\u001b[39m\n\u001b[32m    390\u001b[39m logger.debug(\n\u001b[32m    391\u001b[39m     \u001b[33mf\u001b[39m\u001b[33m\"\u001b[39m\u001b[33mRunning agent \u001b[39m\u001b[38;5;132;01m{\u001b[39;00mcurrent_agent.name\u001b[38;5;132;01m}\u001b[39;00m\u001b[33m (turn \u001b[39m\u001b[38;5;132;01m{\u001b[39;00mcurrent_turn\u001b[38;5;132;01m}\u001b[39;00m\u001b[33m)\u001b[39m\u001b[33m\"\u001b[39m,\n\u001b[32m    392\u001b[39m )\n\u001b[32m    394\u001b[39m \u001b[38;5;28;01mif\u001b[39;00m current_turn == \u001b[32m1\u001b[39m:\n\u001b[32m--> \u001b[39m\u001b[32m395\u001b[39m     input_guardrail_results, turn_result = \u001b[38;5;28;01mawait\u001b[39;00m asyncio.gather(\n\u001b[32m    396\u001b[39m         \u001b[38;5;28mself\u001b[39m._run_input_guardrails(\n\u001b[32m    397\u001b[39m             starting_agent,\n\u001b[32m    398\u001b[39m             starting_agent.input_guardrails\n\u001b[32m    399\u001b[39m             + (run_config.input_guardrails \u001b[38;5;129;01mor\u001b[39;00m []),\n\u001b[32m    400\u001b[39m             copy.deepcopy(\u001b[38;5;28minput\u001b[39m),\n\u001b[32m    401\u001b[39m             context_wrapper,\n\u001b[32m    402\u001b[39m         ),\n\u001b[32m    403\u001b[39m         \u001b[38;5;28mself\u001b[39m._run_single_turn(\n\u001b[32m    404\u001b[39m             agent=current_agent,\n\u001b[32m    405\u001b[39m             all_tools=all_tools,\n\u001b[32m    406\u001b[39m             original_input=original_input,\n\u001b[32m    407\u001b[39m             generated_items=generated_items,\n\u001b[32m    408\u001b[39m             hooks=hooks,\n\u001b[32m    409\u001b[39m             context_wrapper=context_wrapper,\n\u001b[32m    410\u001b[39m             run_config=run_config,\n\u001b[32m    411\u001b[39m             should_run_agent_start_hooks=should_run_agent_start_hooks,\n\u001b[32m    412\u001b[39m             tool_use_tracker=tool_use_tracker,\n\u001b[32m    413\u001b[39m             previous_response_id=previous_response_id,\n\u001b[32m    414\u001b[39m         ),\n\u001b[32m    415\u001b[39m     )\n\u001b[32m    416\u001b[39m \u001b[38;5;28;01melse\u001b[39;00m:\n\u001b[32m    417\u001b[39m     turn_result = \u001b[38;5;28;01mawait\u001b[39;00m \u001b[38;5;28mself\u001b[39m._run_single_turn(\n\u001b[32m    418\u001b[39m         agent=current_agent,\n\u001b[32m    419\u001b[39m         all_tools=all_tools,\n\u001b[32m   (...)\u001b[39m\u001b[32m    427\u001b[39m         previous_response_id=previous_response_id,\n\u001b[32m    428\u001b[39m     )\n",
      "\u001b[36mFile \u001b[39m\u001b[32mc:\\Users\\uni-tech\\All Programming Code\\agentic_ai\\00_demo\\.venv\\Lib\\site-packages\\agents\\run.py:905\u001b[39m, in \u001b[36mAgentRunner._run_single_turn\u001b[39m\u001b[34m(cls, agent, all_tools, original_input, generated_items, hooks, context_wrapper, run_config, should_run_agent_start_hooks, tool_use_tracker, previous_response_id)\u001b[39m\n\u001b[32m    902\u001b[39m \u001b[38;5;28minput\u001b[39m = ItemHelpers.input_to_new_input_list(original_input)\n\u001b[32m    903\u001b[39m \u001b[38;5;28minput\u001b[39m.extend([generated_item.to_input_item() \u001b[38;5;28;01mfor\u001b[39;00m generated_item \u001b[38;5;129;01min\u001b[39;00m generated_items])\n\u001b[32m--> \u001b[39m\u001b[32m905\u001b[39m new_response = \u001b[38;5;28;01mawait\u001b[39;00m \u001b[38;5;28mcls\u001b[39m._get_new_response(\n\u001b[32m    906\u001b[39m     agent,\n\u001b[32m    907\u001b[39m     system_prompt,\n\u001b[32m    908\u001b[39m     \u001b[38;5;28minput\u001b[39m,\n\u001b[32m    909\u001b[39m     output_schema,\n\u001b[32m    910\u001b[39m     all_tools,\n\u001b[32m    911\u001b[39m     handoffs,\n\u001b[32m    912\u001b[39m     context_wrapper,\n\u001b[32m    913\u001b[39m     run_config,\n\u001b[32m    914\u001b[39m     tool_use_tracker,\n\u001b[32m    915\u001b[39m     previous_response_id,\n\u001b[32m    916\u001b[39m     prompt_config,\n\u001b[32m    917\u001b[39m )\n\u001b[32m    919\u001b[39m \u001b[38;5;28;01mreturn\u001b[39;00m \u001b[38;5;28;01mawait\u001b[39;00m \u001b[38;5;28mcls\u001b[39m._get_single_step_result_from_response(\n\u001b[32m    920\u001b[39m     agent=agent,\n\u001b[32m    921\u001b[39m     original_input=original_input,\n\u001b[32m   (...)\u001b[39m\u001b[32m    930\u001b[39m     tool_use_tracker=tool_use_tracker,\n\u001b[32m    931\u001b[39m )\n",
      "\u001b[36mFile \u001b[39m\u001b[32mc:\\Users\\uni-tech\\All Programming Code\\agentic_ai\\00_demo\\.venv\\Lib\\site-packages\\agents\\run.py:1066\u001b[39m, in \u001b[36mAgentRunner._get_new_response\u001b[39m\u001b[34m(cls, agent, system_prompt, input, output_schema, all_tools, handoffs, context_wrapper, run_config, tool_use_tracker, previous_response_id, prompt_config)\u001b[39m\n\u001b[32m   1063\u001b[39m model_settings = agent.model_settings.resolve(run_config.model_settings)\n\u001b[32m   1064\u001b[39m model_settings = RunImpl.maybe_reset_tool_choice(agent, tool_use_tracker, model_settings)\n\u001b[32m-> \u001b[39m\u001b[32m1066\u001b[39m new_response = \u001b[38;5;28;01mawait\u001b[39;00m model.get_response(\n\u001b[32m   1067\u001b[39m     system_instructions=system_prompt,\n\u001b[32m   1068\u001b[39m     \u001b[38;5;28minput\u001b[39m=\u001b[38;5;28minput\u001b[39m,\n\u001b[32m   1069\u001b[39m     model_settings=model_settings,\n\u001b[32m   1070\u001b[39m     tools=all_tools,\n\u001b[32m   1071\u001b[39m     output_schema=output_schema,\n\u001b[32m   1072\u001b[39m     handoffs=handoffs,\n\u001b[32m   1073\u001b[39m     tracing=get_model_tracing_impl(\n\u001b[32m   1074\u001b[39m         run_config.tracing_disabled, run_config.trace_include_sensitive_data\n\u001b[32m   1075\u001b[39m     ),\n\u001b[32m   1076\u001b[39m     previous_response_id=previous_response_id,\n\u001b[32m   1077\u001b[39m     prompt=prompt_config,\n\u001b[32m   1078\u001b[39m )\n\u001b[32m   1080\u001b[39m context_wrapper.usage.add(new_response.usage)\n\u001b[32m   1082\u001b[39m \u001b[38;5;28;01mreturn\u001b[39;00m new_response\n",
      "\u001b[36mFile \u001b[39m\u001b[32mc:\\Users\\uni-tech\\All Programming Code\\agentic_ai\\00_demo\\.venv\\Lib\\site-packages\\agents\\models\\openai_chatcompletions.py:64\u001b[39m, in \u001b[36mOpenAIChatCompletionsModel.get_response\u001b[39m\u001b[34m(self, system_instructions, input, model_settings, tools, output_schema, handoffs, tracing, previous_response_id, prompt)\u001b[39m\n\u001b[32m     47\u001b[39m \u001b[38;5;28;01masync\u001b[39;00m \u001b[38;5;28;01mdef\u001b[39;00m\u001b[38;5;250m \u001b[39m\u001b[34mget_response\u001b[39m(\n\u001b[32m     48\u001b[39m     \u001b[38;5;28mself\u001b[39m,\n\u001b[32m     49\u001b[39m     system_instructions: \u001b[38;5;28mstr\u001b[39m | \u001b[38;5;28;01mNone\u001b[39;00m,\n\u001b[32m   (...)\u001b[39m\u001b[32m     57\u001b[39m     prompt: ResponsePromptParam | \u001b[38;5;28;01mNone\u001b[39;00m = \u001b[38;5;28;01mNone\u001b[39;00m,\n\u001b[32m     58\u001b[39m ) -> ModelResponse:\n\u001b[32m     59\u001b[39m     \u001b[38;5;28;01mwith\u001b[39;00m generation_span(\n\u001b[32m     60\u001b[39m         model=\u001b[38;5;28mstr\u001b[39m(\u001b[38;5;28mself\u001b[39m.model),\n\u001b[32m     61\u001b[39m         model_config=model_settings.to_json_dict() | {\u001b[33m\"\u001b[39m\u001b[33mbase_url\u001b[39m\u001b[33m\"\u001b[39m: \u001b[38;5;28mstr\u001b[39m(\u001b[38;5;28mself\u001b[39m._client.base_url)},\n\u001b[32m     62\u001b[39m         disabled=tracing.is_disabled(),\n\u001b[32m     63\u001b[39m     ) \u001b[38;5;28;01mas\u001b[39;00m span_generation:\n\u001b[32m---> \u001b[39m\u001b[32m64\u001b[39m         response = \u001b[38;5;28;01mawait\u001b[39;00m \u001b[38;5;28mself\u001b[39m._fetch_response(\n\u001b[32m     65\u001b[39m             system_instructions,\n\u001b[32m     66\u001b[39m             \u001b[38;5;28minput\u001b[39m,\n\u001b[32m     67\u001b[39m             model_settings,\n\u001b[32m     68\u001b[39m             tools,\n\u001b[32m     69\u001b[39m             output_schema,\n\u001b[32m     70\u001b[39m             handoffs,\n\u001b[32m     71\u001b[39m             span_generation,\n\u001b[32m     72\u001b[39m             tracing,\n\u001b[32m     73\u001b[39m             stream=\u001b[38;5;28;01mFalse\u001b[39;00m,\n\u001b[32m     74\u001b[39m             prompt=prompt,\n\u001b[32m     75\u001b[39m         )\n\u001b[32m     77\u001b[39m         first_choice = response.choices[\u001b[32m0\u001b[39m]\n\u001b[32m     78\u001b[39m         message = first_choice.message\n",
      "\u001b[36mFile \u001b[39m\u001b[32mc:\\Users\\uni-tech\\All Programming Code\\agentic_ai\\00_demo\\.venv\\Lib\\site-packages\\agents\\models\\openai_chatcompletions.py:248\u001b[39m, in \u001b[36mOpenAIChatCompletionsModel._fetch_response\u001b[39m\u001b[34m(self, system_instructions, input, model_settings, tools, output_schema, handoffs, span, tracing, stream, prompt)\u001b[39m\n\u001b[32m    245\u001b[39m tool_choice = Converter.convert_tool_choice(model_settings.tool_choice)\n\u001b[32m    246\u001b[39m response_format = Converter.convert_response_format(output_schema)\n\u001b[32m--> \u001b[39m\u001b[32m248\u001b[39m converted_tools = [\u001b[43mConverter\u001b[49m\u001b[43m.\u001b[49m\u001b[43mtool_to_openai\u001b[49m\u001b[43m(\u001b[49m\u001b[43mtool\u001b[49m\u001b[43m)\u001b[49m \u001b[38;5;28;01mfor\u001b[39;00m tool \u001b[38;5;129;01min\u001b[39;00m tools] \u001b[38;5;28;01mif\u001b[39;00m tools \u001b[38;5;28;01melse\u001b[39;00m []\n\u001b[32m    250\u001b[39m \u001b[38;5;28;01mfor\u001b[39;00m handoff \u001b[38;5;129;01min\u001b[39;00m handoffs:\n\u001b[32m    251\u001b[39m     converted_tools.append(Converter.convert_handoff_tool(handoff))\n",
      "\u001b[36mFile \u001b[39m\u001b[32mc:\\Users\\uni-tech\\All Programming Code\\agentic_ai\\00_demo\\.venv\\Lib\\site-packages\\agents\\models\\chatcmpl_converter.py:452\u001b[39m, in \u001b[36mConverter.tool_to_openai\u001b[39m\u001b[34m(cls, tool)\u001b[39m\n\u001b[32m    442\u001b[39m \u001b[38;5;28;01mif\u001b[39;00m \u001b[38;5;28misinstance\u001b[39m(tool, FunctionTool):\n\u001b[32m    443\u001b[39m     \u001b[38;5;28;01mreturn\u001b[39;00m {\n\u001b[32m    444\u001b[39m         \u001b[33m\"\u001b[39m\u001b[33mtype\u001b[39m\u001b[33m\"\u001b[39m: \u001b[33m\"\u001b[39m\u001b[33mfunction\u001b[39m\u001b[33m\"\u001b[39m,\n\u001b[32m    445\u001b[39m         \u001b[33m\"\u001b[39m\u001b[33mfunction\u001b[39m\u001b[33m\"\u001b[39m: {\n\u001b[32m   (...)\u001b[39m\u001b[32m    449\u001b[39m         },\n\u001b[32m    450\u001b[39m     }\n\u001b[32m--> \u001b[39m\u001b[32m452\u001b[39m \u001b[38;5;28;01mraise\u001b[39;00m UserError(\n\u001b[32m    453\u001b[39m     \u001b[33mf\u001b[39m\u001b[33m\"\u001b[39m\u001b[33mHosted tools are not supported with the ChatCompletions API. Got tool type: \u001b[39m\u001b[33m\"\u001b[39m\n\u001b[32m    454\u001b[39m     \u001b[33mf\u001b[39m\u001b[33m\"\u001b[39m\u001b[38;5;132;01m{\u001b[39;00m\u001b[38;5;28mtype\u001b[39m(tool)\u001b[38;5;132;01m}\u001b[39;00m\u001b[33m, tool: \u001b[39m\u001b[38;5;132;01m{\u001b[39;00mtool\u001b[38;5;132;01m}\u001b[39;00m\u001b[33m\"\u001b[39m\n\u001b[32m    455\u001b[39m )\n",
      "\u001b[31mUserError\u001b[39m: Hosted tools are not supported with the ChatCompletions API. Got tool type: <class 'agents.tool.WebSearchTool'>, tool: WebSearchTool(user_location=None, search_context_size='medium')"
     ]
    }
   ],
   "source": [
    "news_result = await Runner.run(news_agent, \"find news\")"
   ]
  },
  {
   "cell_type": "code",
   "execution_count": null,
   "id": "0e3a0301",
   "metadata": {},
   "outputs": [],
   "source": [
    "news_agent.final_output"
   ]
  },
  {
   "cell_type": "code",
   "execution_count": 59,
   "id": "5c1268bd",
   "metadata": {},
   "outputs": [],
   "source": [
    "class Tutorial(BaseModel):\n",
    "    outline: str\n",
    "    tutorial: str"
   ]
  },
  {
   "cell_type": "code",
   "execution_count": 62,
   "id": "538a4f2f",
   "metadata": {},
   "outputs": [],
   "source": [
    "tutorial_generator: Agent = Agent(name=\"Tutorial Generator\", instructions=(\n",
    "        \"Given a programming topic and an outline, your job is to generate code snippets for each section of the outline.\"\n",
    "        \"Format the tutorial in Markdown using a mix of text for explanation and code snippets for examples.\"\n",
    "        \"Where it makes sense, include comments in the code snippets to further explain the code.\"\n",
    "    ),\n",
    "    handoff_description=\"Used for generating a tutorial based on an outline.\",\n",
    "    output_type=Tutorial,\n",
    "    model=model\n",
    "                                  \n",
    "                                  )"
   ]
  },
  {
   "cell_type": "code",
   "execution_count": 63,
   "id": "b4e9d5a6",
   "metadata": {},
   "outputs": [],
   "source": [
    "outline_builder: Agent = Agent(\n",
    "    name=\"Outline Builder\",\n",
    "    instructions=(\n",
    "        \"Given a particular programming topic, your job is to help come up with a tutorial. You will do that by crafting an outline.\"\n",
    "        \"After making the outline, hand it to the tutorial generator agent.\"\n",
    "    ),\n",
    "handoffs=[tutorial_generator],\n",
    "model=model\n",
    ")"
   ]
  },
  {
   "cell_type": "code",
   "execution_count": 64,
   "id": "70b2065d",
   "metadata": {},
   "outputs": [],
   "source": [
    "tutorial_result = await Runner.run(outline_builder, \"Loops in Python\")"
   ]
  },
  {
   "cell_type": "code",
   "execution_count": 65,
   "id": "f4e74afa",
   "metadata": {},
   "outputs": [
    {
     "data": {
      "text/plain": [
       "Tutorial(outline='1.  **Introduction to Loops**\\n    *   What are loops and why are they used?\\n    *   Types of loops in Python: `for` and `while`\\n\\n2.  **`for` Loops**\\n    *   Basic syntax of a `for` loop\\n    *   Iterating through a sequence (list, tuple, string)\\n    *   Using `range()` with `for` loops\\n    *   `for` loops with `else`\\n    *   Nested `for` loops\\n\\n3.  **`while` Loops**\\n    *   Basic syntax of a `while` loop\\n    *   Using `while` loops with conditional statements\\n    *   `while` loops with `else`\\n    *   Infinite loops and how to avoid them\\n\\n4.  **Loop Control Statements**\\n    *   `break` statement: Exiting a loop\\n    *   `continue` statement: Skipping to the next iteration\\n    *   `pass` statement: Doing nothing\\n\\n5.  **Examples and Use Cases**\\n    *   Looping through lists and performing operations\\n    *   Reading data from a file line by line\\n    *   Creating simple games or simulations\\n\\n6.  **Best Practices and Common Errors**\\n    *   Avoiding infinite loops\\n    *   Using appropriate loop types for different scenarios\\n    *   Looping efficiently\\n\\n7.  **Conclusion**\\n    *   Summary of key concepts\\n    *   Further learning resources', tutorial='# Loops in Python: A Comprehensive Guide\\n\\n## 1. Introduction to Loops\\n\\n### What are loops and why are they used?\\n\\nLoops are fundamental programming constructs that allow you to execute a block of code repeatedly. They automate repetitive tasks, making code more efficient and readable. Instead of writing the same code multiple times, you can use a loop to execute it as many times as needed.\\n\\n### Types of loops in Python: `for` and `while`\\n\\nPython provides two primary types of loops:\\n\\n*   **`for` loop:** Used for iterating over a sequence (like a list, tuple, string, or range).\\n*   **`while` loop:** Used for executing a block of code as long as a condition is true.\\n\\n## 2. `for` Loops\\n\\n### Basic syntax of a `for` loop\\n\\nThe `for` loop in Python iterates over a sequence, executing a block of code for each element in the sequence.\\n\\n```python\\nfor item in sequence:\\n    # Code to be executed for each item\\n    print(item)\\n```\\n\\n### Iterating through a sequence (list, tuple, string)\\n\\nHere are examples of iterating through different types of sequences:\\n\\n```python\\n# Iterating through a list\\nmy_list = [1, 2, 3, 4, 5]\\nfor number in my_list:\\n    print(number)\\n\\n# Iterating through a tuple\\nmy_tuple = (\\'apple\\', \\'banana\\', \\'cherry\\')\\nfor fruit in my_tuple:\\n    print(fruit)\\n\\n# Iterating through a string\\nmy_string = \"Python\"\\nfor letter in my_string:\\n    print(letter)\\n```\\n\\n### Using `range()` with `for` loops\\n\\nThe `range()` function generates a sequence of numbers, which is often used with `for` loops to iterate a specific number of times.\\n\\n```python\\n# Using range(5) to iterate from 0 to 4\\nfor i in range(5):\\n    print(i)\\n\\n# Using range(1, 10) to iterate from 1 to 9\\nfor i in range(1, 10):\\n    print(i)\\n\\n# Using range(0, 20, 2) to iterate from 0 to 18 with a step of 2\\nfor i in range(0, 20, 2):\\n    print(i)\\n```\\n\\n### `for` loops with `else`\\n\\nPython\\'s `for` loop can have an optional `else` block, which is executed after the loop completes normally (i.e., without encountering a `break` statement).\\n\\n```python\\nmy_list = [1, 2, 3, 4, 5]\\nfor number in my_list:\\n    print(number)\\nelse:\\n    print(\"Loop completed successfully!\")\\n\\n# Example with break\\nmy_list = [1, 2, 3, 4, 5]\\nfor number in my_list:\\n    if number == 3:\\n        break\\n    print(number)\\nelse:\\n    print(\"Loop completed successfully!\") # This will not be printed\\n```\\n\\n### Nested `for` loops\\n\\nNested `for` loops involve placing one `for` loop inside another. This is useful for iterating over multiple dimensions or creating combinations.\\n\\n```python\\n# Nested for loops to print pairs of numbers\\nfor i in range(1, 4):\\n    for j in range(1, 4):\\n        print(f\"({i}, {j})\")\\n```\\n\\n## 3. `while` Loops\\n\\n### Basic syntax of a `while` loop\\n\\nThe `while` loop executes a block of code as long as a specified condition is true.\\n\\n```python\\nwhile condition:\\n    # Code to be executed while the condition is true\\n    print(\"Condition is true\")\\n```\\n\\n### Using `while` loops with conditional statements\\n\\n`while` loops are often used with conditional statements to control the loop\\'s execution.\\n\\n```python\\n# While loop with a counter\\ncount = 0\\nwhile count < 5:\\n    print(f\"Count: {count}\")\\n    count += 1\\n\\n# While loop with a boolean flag\\nrunning = True\\nwhile running:\\n    user_input = input(\"Enter \\'quit\\' to exit: \")\\n    if user_input == \\'quit\\':\\n        running = False\\n    else:\\n        print(\"You entered: \", user_input)\\n```\\n\\n### `while` loops with `else`\\n\\nSimilar to `for` loops, `while` loops can also have an `else` block, which is executed when the loop condition becomes false.\\n\\n```python\\ncount = 0\\nwhile count < 5:\\n    print(f\"Count: {count}\")\\n    count += 1\\nelse:\\n    print(\"While loop completed!\")\\n\\n# Example with break\\ncount = 0\\nwhile count < 5:\\n    if count == 3:\\n        break\\n    print(f\"Count: {count}\")\\n    count += 1\\nelse:\\n    print(\"While loop completed!\") # This will not be printed\\n```\\n\\n### Infinite loops and how to avoid them\\n\\nAn infinite loop occurs when the loop condition never becomes false, causing the loop to run indefinitely. It\\'s crucial to avoid infinite loops by ensuring the loop condition eventually becomes false.\\n\\n```python\\n# Example of an infinite loop (avoid this!)\\n# while True:\\n#     print(\"This will print forever!\")\\n\\n# Corrected example to avoid an infinite loop\\ncount = 0\\nwhile count < 5:\\n    print(f\"Count: {count}\")\\n    count += 1 # Incrementing the counter ensures the loop terminates\\n```\\n\\n## 4. Loop Control Statements\\n\\n### `break` statement: Exiting a loop\\n\\nThe `break` statement is used to exit a loop prematurely.\\n\\n```python\\n# Break statement example\\nmy_list = [1, 2, 3, 4, 5]\\nfor number in my_list:\\n    if number == 3:\\n        break  # Exit the loop when number is 3\\n    print(number)\\n```\\n\\n### `continue` statement: Skipping to the next iteration\\n\\nThe `continue` statement skips the rest of the current iteration and proceeds to the next iteration.\\n\\n```python\\n# Continue statement example\\nmy_list = [1, 2, 3, 4, 5]\\nfor number in my_list:\\n    if number == 3:\\n        continue  # Skip printing when number is 3\\n    print(number)\\n```\\n\\n### `pass` statement: Doing nothing\\n\\nThe `pass` statement is a null operation; nothing happens when it executes. It can be used as a placeholder where a statement is syntactically required but no action is needed.\\n\\n```python\\n# Pass statement example\\nmy_list = [1, 2, 3, 4, 5]\\nfor number in my_list:\\n    if number == 3:\\n        pass  # Do nothing when number is 3\\n    else:\\n        print(number)\\n```\\n\\n## 5. Examples and Use Cases\\n\\n### Looping through lists and performing operations\\n\\n```python\\n# Example: Squaring numbers in a list\\nnumbers = [1, 2, 3, 4, 5]\\nsquared_numbers = []\\nfor number in numbers:\\n    squared_numbers.append(number ** 2)\\nprint(squared_numbers)\\n```\\n\\n### Reading data from a file line by line\\n\\n```python\\n# Example: Reading a file line by line\\nwith open(\\'example.txt\\', \\'r\\') as file:\\n    for line in file:\\n        print(line.strip())  # Remove leading/trailing whitespace\\n```\\n\\n### Creating simple games or simulations\\n\\n```python\\n# Simple number guessing game\\nimport random\\n\\nnumber = random.randint(1, 100)\\nguess = 0\\n\\nwhile guess != number:\\n    guess = int(input(\"Guess a number between 1 and 100: \"))\\n    if guess < number:\\n        print(\"Too low!\")\\n    elif guess > number:\\n        print(\"Too high!\")\\n    else:\\n        print(f\"Congratulations! You guessed the number {number} correctly!\")\\n```\\n\\n## 6. Best Practices and Common Errors\\n\\n### Avoiding infinite loops\\n\\nAlways ensure that your loop condition will eventually become false. Double-check the logic within the loop to prevent infinite loops.\\n\\n### Using appropriate loop types for different scenarios\\n\\n*   Use `for` loops when you know the number of iterations or when iterating over a sequence.\\n*   Use `while` loops when you need to repeat a block of code until a condition is met.\\n\\n### Looping efficiently\\n\\n*   Minimize the amount of work done inside the loop.\\n*   Use list comprehensions or generator expressions for simple transformations.\\n*   Avoid unnecessary calculations or function calls within the loop.\\n\\n## 7. Conclusion\\n\\n### Summary of key concepts\\n\\n*   Loops automate repetitive tasks and make code more efficient.\\n*   Python provides `for` and `while` loops.\\n*   `for` loops iterate over sequences, while `while` loops execute as long as a condition is true.\\n*   Loop control statements (`break`, `continue`, `pass`) modify loop behavior.\\n\\n### Further learning resources\\n\\n*   Python documentation: [https://docs.python.org/3/tutorial/controlflow.html#for-statements](https://docs.python.org/3/tutorial/controlflow.html#for-statements)\\n*   Real Python tutorials on loops: [https://realpython.com/python-for-loop/](https://realpython.com/python-for-loop/)\\n*   W3Schools Python loops: [https://www.w3schools.com/python/python_while_loops.asp](https://www.w3schools.com/python/python_while_loops.asp)')"
      ]
     },
     "execution_count": 65,
     "metadata": {},
     "output_type": "execute_result"
    }
   ],
   "source": [
    "tutorial_result.final_output"
   ]
  }
 ],
 "metadata": {
  "kernelspec": {
   "display_name": ".venv",
   "language": "python",
   "name": "python3"
  },
  "language_info": {
   "codemirror_mode": {
    "name": "ipython",
    "version": 3
   },
   "file_extension": ".py",
   "mimetype": "text/x-python",
   "name": "python",
   "nbconvert_exporter": "python",
   "pygments_lexer": "ipython3",
   "version": "3.12.5"
  }
 },
 "nbformat": 4,
 "nbformat_minor": 5
}
